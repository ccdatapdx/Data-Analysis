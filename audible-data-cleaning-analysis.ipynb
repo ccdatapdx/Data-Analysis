{
 "cells": [
  {
   "cell_type": "code",
   "execution_count": 1,
   "id": "f7af39c1",
   "metadata": {
    "_cell_guid": "b1076dfc-b9ad-4769-8c92-a6c4dae69d19",
    "_uuid": "8f2839f25d086af736a60e9eeb907d3b93b6e0e5",
    "execution": {
     "iopub.execute_input": "2025-03-25T04:08:12.526869Z",
     "iopub.status.busy": "2025-03-25T04:08:12.526495Z",
     "iopub.status.idle": "2025-03-25T04:08:13.527131Z",
     "shell.execute_reply": "2025-03-25T04:08:13.525805Z"
    },
    "papermill": {
     "duration": 1.013214,
     "end_time": "2025-03-25T04:08:13.529478",
     "exception": false,
     "start_time": "2025-03-25T04:08:12.516264",
     "status": "completed"
    },
    "tags": []
   },
   "outputs": [
    {
     "name": "stdout",
     "output_type": "stream",
     "text": [
      "/kaggle/input/audible-dataset/audible_cleaned.csv\n",
      "/kaggle/input/audible-dataset/audible_uncleaned.csv\n"
     ]
    }
   ],
   "source": [
    "# This Python 3 environment comes with many helpful analytics libraries installed\n",
    "# It is defined by the kaggle/python Docker image: https://github.com/kaggle/docker-python\n",
    "# For example, here's several helpful packages to load\n",
    "\n",
    "import numpy as np # linear algebra\n",
    "import pandas as pd # data processing, CSV file I/O (e.g. pd.read_csv)\n",
    "\n",
    "# Input data files are available in the read-only \"../input/\" directory\n",
    "# For example, running this (by clicking run or pressing Shift+Enter) will list all files under the input directory\n",
    "\n",
    "import os\n",
    "for dirname, _, filenames in os.walk('/kaggle/input'):\n",
    "    for filename in filenames:\n",
    "        print(os.path.join(dirname, filename))\n",
    "\n",
    "# You can write up to 20GB to the current directory (/kaggle/working/) that gets preserved as output when you create a version using \"Save & Run All\" \n",
    "# You can also write temporary files to /kaggle/temp/, but they won't be saved outside of the current session"
   ]
  },
  {
   "cell_type": "code",
   "execution_count": 2,
   "id": "1273c841",
   "metadata": {
    "execution": {
     "iopub.execute_input": "2025-03-25T04:08:13.548159Z",
     "iopub.status.busy": "2025-03-25T04:08:13.547614Z",
     "iopub.status.idle": "2025-03-25T04:08:14.082442Z",
     "shell.execute_reply": "2025-03-25T04:08:14.081335Z"
    },
    "papermill": {
     "duration": 0.54637,
     "end_time": "2025-03-25T04:08:14.084883",
     "exception": false,
     "start_time": "2025-03-25T04:08:13.538513",
     "status": "completed"
    },
    "tags": []
   },
   "outputs": [
    {
     "data": {
      "text/html": [
       "<div>\n",
       "<style scoped>\n",
       "    .dataframe tbody tr th:only-of-type {\n",
       "        vertical-align: middle;\n",
       "    }\n",
       "\n",
       "    .dataframe tbody tr th {\n",
       "        vertical-align: top;\n",
       "    }\n",
       "\n",
       "    .dataframe thead th {\n",
       "        text-align: right;\n",
       "    }\n",
       "</style>\n",
       "<table border=\"1\" class=\"dataframe\">\n",
       "  <thead>\n",
       "    <tr style=\"text-align: right;\">\n",
       "      <th></th>\n",
       "      <th>name</th>\n",
       "      <th>author</th>\n",
       "      <th>narrator</th>\n",
       "      <th>time</th>\n",
       "      <th>releasedate</th>\n",
       "      <th>language</th>\n",
       "      <th>stars</th>\n",
       "      <th>price</th>\n",
       "    </tr>\n",
       "  </thead>\n",
       "  <tbody>\n",
       "    <tr>\n",
       "      <th>0</th>\n",
       "      <td>Geronimo Stilton #11 &amp; #12</td>\n",
       "      <td>Writtenby:GeronimoStilton</td>\n",
       "      <td>Narratedby:BillLobely</td>\n",
       "      <td>2 hrs and 20 mins</td>\n",
       "      <td>04-08-08</td>\n",
       "      <td>English</td>\n",
       "      <td>5 out of 5 stars34 ratings</td>\n",
       "      <td>468.00</td>\n",
       "    </tr>\n",
       "    <tr>\n",
       "      <th>1</th>\n",
       "      <td>The Burning Maze</td>\n",
       "      <td>Writtenby:RickRiordan</td>\n",
       "      <td>Narratedby:RobbieDaymond</td>\n",
       "      <td>13 hrs and 8 mins</td>\n",
       "      <td>01-05-18</td>\n",
       "      <td>English</td>\n",
       "      <td>4.5 out of 5 stars41 ratings</td>\n",
       "      <td>820.00</td>\n",
       "    </tr>\n",
       "    <tr>\n",
       "      <th>2</th>\n",
       "      <td>The Deep End</td>\n",
       "      <td>Writtenby:JeffKinney</td>\n",
       "      <td>Narratedby:DanRussell</td>\n",
       "      <td>2 hrs and 3 mins</td>\n",
       "      <td>06-11-20</td>\n",
       "      <td>English</td>\n",
       "      <td>4.5 out of 5 stars38 ratings</td>\n",
       "      <td>410.00</td>\n",
       "    </tr>\n",
       "    <tr>\n",
       "      <th>3</th>\n",
       "      <td>Daughter of the Deep</td>\n",
       "      <td>Writtenby:RickRiordan</td>\n",
       "      <td>Narratedby:SoneelaNankani</td>\n",
       "      <td>11 hrs and 16 mins</td>\n",
       "      <td>05-10-21</td>\n",
       "      <td>English</td>\n",
       "      <td>4.5 out of 5 stars12 ratings</td>\n",
       "      <td>615.00</td>\n",
       "    </tr>\n",
       "    <tr>\n",
       "      <th>4</th>\n",
       "      <td>The Lightning Thief: Percy Jackson, Book 1</td>\n",
       "      <td>Writtenby:RickRiordan</td>\n",
       "      <td>Narratedby:JesseBernstein</td>\n",
       "      <td>10 hrs</td>\n",
       "      <td>13-01-10</td>\n",
       "      <td>English</td>\n",
       "      <td>4.5 out of 5 stars181 ratings</td>\n",
       "      <td>820.00</td>\n",
       "    </tr>\n",
       "    <tr>\n",
       "      <th>...</th>\n",
       "      <td>...</td>\n",
       "      <td>...</td>\n",
       "      <td>...</td>\n",
       "      <td>...</td>\n",
       "      <td>...</td>\n",
       "      <td>...</td>\n",
       "      <td>...</td>\n",
       "      <td>...</td>\n",
       "    </tr>\n",
       "    <tr>\n",
       "      <th>87484</th>\n",
       "      <td>Last Days of the Bus Club</td>\n",
       "      <td>Writtenby:ChrisStewart</td>\n",
       "      <td>Narratedby:ChrisStewart</td>\n",
       "      <td>7 hrs and 34 mins</td>\n",
       "      <td>09-03-17</td>\n",
       "      <td>English</td>\n",
       "      <td>Not rated yet</td>\n",
       "      <td>596.00</td>\n",
       "    </tr>\n",
       "    <tr>\n",
       "      <th>87485</th>\n",
       "      <td>The Alps</td>\n",
       "      <td>Writtenby:StephenO'Shea</td>\n",
       "      <td>Narratedby:RobertFass</td>\n",
       "      <td>10 hrs and 7 mins</td>\n",
       "      <td>21-02-17</td>\n",
       "      <td>English</td>\n",
       "      <td>Not rated yet</td>\n",
       "      <td>820.00</td>\n",
       "    </tr>\n",
       "    <tr>\n",
       "      <th>87486</th>\n",
       "      <td>The Innocents Abroad</td>\n",
       "      <td>Writtenby:MarkTwain</td>\n",
       "      <td>Narratedby:FloGibson</td>\n",
       "      <td>19 hrs and 4 mins</td>\n",
       "      <td>30-12-16</td>\n",
       "      <td>English</td>\n",
       "      <td>Not rated yet</td>\n",
       "      <td>938.00</td>\n",
       "    </tr>\n",
       "    <tr>\n",
       "      <th>87487</th>\n",
       "      <td>A Sentimental Journey</td>\n",
       "      <td>Writtenby:LaurenceSterne</td>\n",
       "      <td>Narratedby:AntonLesser</td>\n",
       "      <td>4 hrs and 8 mins</td>\n",
       "      <td>23-02-11</td>\n",
       "      <td>English</td>\n",
       "      <td>Not rated yet</td>\n",
       "      <td>680.00</td>\n",
       "    </tr>\n",
       "    <tr>\n",
       "      <th>87488</th>\n",
       "      <td>Havana</td>\n",
       "      <td>Writtenby:MarkKurlansky</td>\n",
       "      <td>Narratedby:FleetCooper</td>\n",
       "      <td>6 hrs and 1 min</td>\n",
       "      <td>07-03-17</td>\n",
       "      <td>English</td>\n",
       "      <td>Not rated yet</td>\n",
       "      <td>569.00</td>\n",
       "    </tr>\n",
       "  </tbody>\n",
       "</table>\n",
       "<p>87489 rows × 8 columns</p>\n",
       "</div>"
      ],
      "text/plain": [
       "                                             name                     author  \\\n",
       "0                      Geronimo Stilton #11 & #12  Writtenby:GeronimoStilton   \n",
       "1                                The Burning Maze      Writtenby:RickRiordan   \n",
       "2                                    The Deep End       Writtenby:JeffKinney   \n",
       "3                            Daughter of the Deep      Writtenby:RickRiordan   \n",
       "4      The Lightning Thief: Percy Jackson, Book 1      Writtenby:RickRiordan   \n",
       "...                                           ...                        ...   \n",
       "87484                   Last Days of the Bus Club     Writtenby:ChrisStewart   \n",
       "87485                                    The Alps    Writtenby:StephenO'Shea   \n",
       "87486                        The Innocents Abroad        Writtenby:MarkTwain   \n",
       "87487                       A Sentimental Journey   Writtenby:LaurenceSterne   \n",
       "87488                                      Havana    Writtenby:MarkKurlansky   \n",
       "\n",
       "                        narrator                time releasedate language  \\\n",
       "0          Narratedby:BillLobely   2 hrs and 20 mins    04-08-08  English   \n",
       "1       Narratedby:RobbieDaymond   13 hrs and 8 mins    01-05-18  English   \n",
       "2          Narratedby:DanRussell    2 hrs and 3 mins    06-11-20  English   \n",
       "3      Narratedby:SoneelaNankani  11 hrs and 16 mins    05-10-21  English   \n",
       "4      Narratedby:JesseBernstein              10 hrs    13-01-10  English   \n",
       "...                          ...                 ...         ...      ...   \n",
       "87484    Narratedby:ChrisStewart   7 hrs and 34 mins    09-03-17  English   \n",
       "87485      Narratedby:RobertFass   10 hrs and 7 mins    21-02-17  English   \n",
       "87486       Narratedby:FloGibson   19 hrs and 4 mins    30-12-16  English   \n",
       "87487     Narratedby:AntonLesser    4 hrs and 8 mins    23-02-11  English   \n",
       "87488     Narratedby:FleetCooper     6 hrs and 1 min    07-03-17  English   \n",
       "\n",
       "                               stars   price  \n",
       "0         5 out of 5 stars34 ratings  468.00  \n",
       "1       4.5 out of 5 stars41 ratings  820.00  \n",
       "2       4.5 out of 5 stars38 ratings  410.00  \n",
       "3       4.5 out of 5 stars12 ratings  615.00  \n",
       "4      4.5 out of 5 stars181 ratings  820.00  \n",
       "...                              ...     ...  \n",
       "87484                  Not rated yet  596.00  \n",
       "87485                  Not rated yet  820.00  \n",
       "87486                  Not rated yet  938.00  \n",
       "87487                  Not rated yet  680.00  \n",
       "87488                  Not rated yet  569.00  \n",
       "\n",
       "[87489 rows x 8 columns]"
      ]
     },
     "execution_count": 2,
     "metadata": {},
     "output_type": "execute_result"
    }
   ],
   "source": [
    "df = pd.read_csv('/kaggle/input/audible-dataset/audible_uncleaned.csv')\n",
    "\n",
    "df"
   ]
  },
  {
   "cell_type": "code",
   "execution_count": 3,
   "id": "9aa8ecca",
   "metadata": {
    "execution": {
     "iopub.execute_input": "2025-03-25T04:08:14.103857Z",
     "iopub.status.busy": "2025-03-25T04:08:14.103525Z",
     "iopub.status.idle": "2025-03-25T04:08:14.163691Z",
     "shell.execute_reply": "2025-03-25T04:08:14.162323Z"
    },
    "papermill": {
     "duration": 0.071096,
     "end_time": "2025-03-25T04:08:14.165333",
     "exception": false,
     "start_time": "2025-03-25T04:08:14.094237",
     "status": "completed"
    },
    "tags": []
   },
   "outputs": [
    {
     "name": "stdout",
     "output_type": "stream",
     "text": [
      "<class 'pandas.core.frame.DataFrame'>\n",
      "RangeIndex: 87489 entries, 0 to 87488\n",
      "Data columns (total 8 columns):\n",
      " #   Column       Non-Null Count  Dtype \n",
      "---  ------       --------------  ----- \n",
      " 0   name         87489 non-null  object\n",
      " 1   author       87489 non-null  object\n",
      " 2   narrator     87489 non-null  object\n",
      " 3   time         87489 non-null  object\n",
      " 4   releasedate  87489 non-null  object\n",
      " 5   language     87489 non-null  object\n",
      " 6   stars        87489 non-null  object\n",
      " 7   price        87489 non-null  object\n",
      "dtypes: object(8)\n",
      "memory usage: 5.3+ MB\n"
     ]
    }
   ],
   "source": [
    "df.info()"
   ]
  },
  {
   "cell_type": "markdown",
   "id": "20a8dd3f",
   "metadata": {
    "papermill": {
     "duration": 0.007533,
     "end_time": "2025-03-25T04:08:14.180860",
     "exception": false,
     "start_time": "2025-03-25T04:08:14.173327",
     "status": "completed"
    },
    "tags": []
   },
   "source": [
    "# Initial thoughts:\n",
    "\n",
    "* There are no nulls in the dataset, all dtypes are object\n",
    "\n",
    "# Limitations\n",
    "\n",
    "* This is a dataset from Audible.in, therefore the currency is INR.\n",
    "* The dataset goes all the way back to 1998: it is hard to say if the scraper was accurate?\n",
    "* The scraper was last run in April 2022 (not the whole year) and notes that 2023-2025 are only pre-releases.\n",
    "  (Filtering out 2022-2025)\n",
    "* I am a bit suspicious of the pricing data due to a flat distribution, as I would expect a more skewed upward trend. \n",
    "\n",
    "# cleaning steps:\n",
    "\n",
    "* 'releasedate' to 'release_date'\n",
    "\n",
    "* Add release_year, release_month\n",
    "\n",
    "* Due to the limitations above, I will filter out 2022-2025 in release_year\n",
    "\n",
    "* Convert time to minutes\n",
    "\n",
    "* stars: Convert to single stars figure, convert \"Not rated yet\" to NaN for easier identification \n",
    "\n",
    "* Create new column: \"ratings_quantity\" extracted from the \"stars\" column \n",
    "\n",
    "* narrator/author: Remove 'Narratedby'/Writtenby add spaces between first, last names\n",
    "\n",
    "* price: Should be converted to numeric, does contain commas/periods and a \"Free\" string. The price is also in INR.\n",
    "\n",
    "  \n",
    "  \n",
    "\n",
    "\n",
    "\n"
   ]
  },
  {
   "cell_type": "code",
   "execution_count": 4,
   "id": "b2d28b28",
   "metadata": {
    "execution": {
     "iopub.execute_input": "2025-03-25T04:08:14.198116Z",
     "iopub.status.busy": "2025-03-25T04:08:14.197768Z",
     "iopub.status.idle": "2025-03-25T04:08:14.593438Z",
     "shell.execute_reply": "2025-03-25T04:08:14.591793Z"
    },
    "papermill": {
     "duration": 0.407738,
     "end_time": "2025-03-25T04:08:14.596554",
     "exception": false,
     "start_time": "2025-03-25T04:08:14.188816",
     "status": "completed"
    },
    "tags": []
   },
   "outputs": [
    {
     "data": {
      "text/html": [
       "<div>\n",
       "<style scoped>\n",
       "    .dataframe tbody tr th:only-of-type {\n",
       "        vertical-align: middle;\n",
       "    }\n",
       "\n",
       "    .dataframe tbody tr th {\n",
       "        vertical-align: top;\n",
       "    }\n",
       "\n",
       "    .dataframe thead th {\n",
       "        text-align: right;\n",
       "    }\n",
       "</style>\n",
       "<table border=\"1\" class=\"dataframe\">\n",
       "  <thead>\n",
       "    <tr style=\"text-align: right;\">\n",
       "      <th></th>\n",
       "      <th>name</th>\n",
       "      <th>author</th>\n",
       "      <th>narrator</th>\n",
       "      <th>time</th>\n",
       "      <th>release_date</th>\n",
       "      <th>language</th>\n",
       "      <th>stars</th>\n",
       "      <th>price</th>\n",
       "      <th>release_month</th>\n",
       "      <th>release_year</th>\n",
       "    </tr>\n",
       "  </thead>\n",
       "  <tbody>\n",
       "    <tr>\n",
       "      <th>0</th>\n",
       "      <td>Geronimo Stilton #11 &amp; #12</td>\n",
       "      <td>Writtenby:GeronimoStilton</td>\n",
       "      <td>Narratedby:BillLobely</td>\n",
       "      <td>2 hrs and 20 mins</td>\n",
       "      <td>2008-04-08</td>\n",
       "      <td>English</td>\n",
       "      <td>5 out of 5 stars34 ratings</td>\n",
       "      <td>468.00</td>\n",
       "      <td>April</td>\n",
       "      <td>2008</td>\n",
       "    </tr>\n",
       "    <tr>\n",
       "      <th>1</th>\n",
       "      <td>The Burning Maze</td>\n",
       "      <td>Writtenby:RickRiordan</td>\n",
       "      <td>Narratedby:RobbieDaymond</td>\n",
       "      <td>13 hrs and 8 mins</td>\n",
       "      <td>2018-01-05</td>\n",
       "      <td>English</td>\n",
       "      <td>4.5 out of 5 stars41 ratings</td>\n",
       "      <td>820.00</td>\n",
       "      <td>January</td>\n",
       "      <td>2018</td>\n",
       "    </tr>\n",
       "    <tr>\n",
       "      <th>2</th>\n",
       "      <td>The Deep End</td>\n",
       "      <td>Writtenby:JeffKinney</td>\n",
       "      <td>Narratedby:DanRussell</td>\n",
       "      <td>2 hrs and 3 mins</td>\n",
       "      <td>2020-06-11</td>\n",
       "      <td>English</td>\n",
       "      <td>4.5 out of 5 stars38 ratings</td>\n",
       "      <td>410.00</td>\n",
       "      <td>June</td>\n",
       "      <td>2020</td>\n",
       "    </tr>\n",
       "    <tr>\n",
       "      <th>3</th>\n",
       "      <td>Daughter of the Deep</td>\n",
       "      <td>Writtenby:RickRiordan</td>\n",
       "      <td>Narratedby:SoneelaNankani</td>\n",
       "      <td>11 hrs and 16 mins</td>\n",
       "      <td>2021-05-10</td>\n",
       "      <td>English</td>\n",
       "      <td>4.5 out of 5 stars12 ratings</td>\n",
       "      <td>615.00</td>\n",
       "      <td>May</td>\n",
       "      <td>2021</td>\n",
       "    </tr>\n",
       "    <tr>\n",
       "      <th>4</th>\n",
       "      <td>The Lightning Thief: Percy Jackson, Book 1</td>\n",
       "      <td>Writtenby:RickRiordan</td>\n",
       "      <td>Narratedby:JesseBernstein</td>\n",
       "      <td>10 hrs</td>\n",
       "      <td>2010-01-13</td>\n",
       "      <td>English</td>\n",
       "      <td>4.5 out of 5 stars181 ratings</td>\n",
       "      <td>820.00</td>\n",
       "      <td>January</td>\n",
       "      <td>2010</td>\n",
       "    </tr>\n",
       "    <tr>\n",
       "      <th>...</th>\n",
       "      <td>...</td>\n",
       "      <td>...</td>\n",
       "      <td>...</td>\n",
       "      <td>...</td>\n",
       "      <td>...</td>\n",
       "      <td>...</td>\n",
       "      <td>...</td>\n",
       "      <td>...</td>\n",
       "      <td>...</td>\n",
       "      <td>...</td>\n",
       "    </tr>\n",
       "    <tr>\n",
       "      <th>87484</th>\n",
       "      <td>Last Days of the Bus Club</td>\n",
       "      <td>Writtenby:ChrisStewart</td>\n",
       "      <td>Narratedby:ChrisStewart</td>\n",
       "      <td>7 hrs and 34 mins</td>\n",
       "      <td>2017-09-03</td>\n",
       "      <td>English</td>\n",
       "      <td>Not rated yet</td>\n",
       "      <td>596.00</td>\n",
       "      <td>September</td>\n",
       "      <td>2017</td>\n",
       "    </tr>\n",
       "    <tr>\n",
       "      <th>87485</th>\n",
       "      <td>The Alps</td>\n",
       "      <td>Writtenby:StephenO'Shea</td>\n",
       "      <td>Narratedby:RobertFass</td>\n",
       "      <td>10 hrs and 7 mins</td>\n",
       "      <td>2017-02-21</td>\n",
       "      <td>English</td>\n",
       "      <td>Not rated yet</td>\n",
       "      <td>820.00</td>\n",
       "      <td>February</td>\n",
       "      <td>2017</td>\n",
       "    </tr>\n",
       "    <tr>\n",
       "      <th>87486</th>\n",
       "      <td>The Innocents Abroad</td>\n",
       "      <td>Writtenby:MarkTwain</td>\n",
       "      <td>Narratedby:FloGibson</td>\n",
       "      <td>19 hrs and 4 mins</td>\n",
       "      <td>2016-12-30</td>\n",
       "      <td>English</td>\n",
       "      <td>Not rated yet</td>\n",
       "      <td>938.00</td>\n",
       "      <td>December</td>\n",
       "      <td>2016</td>\n",
       "    </tr>\n",
       "    <tr>\n",
       "      <th>87487</th>\n",
       "      <td>A Sentimental Journey</td>\n",
       "      <td>Writtenby:LaurenceSterne</td>\n",
       "      <td>Narratedby:AntonLesser</td>\n",
       "      <td>4 hrs and 8 mins</td>\n",
       "      <td>2011-02-23</td>\n",
       "      <td>English</td>\n",
       "      <td>Not rated yet</td>\n",
       "      <td>680.00</td>\n",
       "      <td>February</td>\n",
       "      <td>2011</td>\n",
       "    </tr>\n",
       "    <tr>\n",
       "      <th>87488</th>\n",
       "      <td>Havana</td>\n",
       "      <td>Writtenby:MarkKurlansky</td>\n",
       "      <td>Narratedby:FleetCooper</td>\n",
       "      <td>6 hrs and 1 min</td>\n",
       "      <td>2017-07-03</td>\n",
       "      <td>English</td>\n",
       "      <td>Not rated yet</td>\n",
       "      <td>569.00</td>\n",
       "      <td>July</td>\n",
       "      <td>2017</td>\n",
       "    </tr>\n",
       "  </tbody>\n",
       "</table>\n",
       "<p>77082 rows × 10 columns</p>\n",
       "</div>"
      ],
      "text/plain": [
       "                                             name                     author  \\\n",
       "0                      Geronimo Stilton #11 & #12  Writtenby:GeronimoStilton   \n",
       "1                                The Burning Maze      Writtenby:RickRiordan   \n",
       "2                                    The Deep End       Writtenby:JeffKinney   \n",
       "3                            Daughter of the Deep      Writtenby:RickRiordan   \n",
       "4      The Lightning Thief: Percy Jackson, Book 1      Writtenby:RickRiordan   \n",
       "...                                           ...                        ...   \n",
       "87484                   Last Days of the Bus Club     Writtenby:ChrisStewart   \n",
       "87485                                    The Alps    Writtenby:StephenO'Shea   \n",
       "87486                        The Innocents Abroad        Writtenby:MarkTwain   \n",
       "87487                       A Sentimental Journey   Writtenby:LaurenceSterne   \n",
       "87488                                      Havana    Writtenby:MarkKurlansky   \n",
       "\n",
       "                        narrator                time release_date language  \\\n",
       "0          Narratedby:BillLobely   2 hrs and 20 mins   2008-04-08  English   \n",
       "1       Narratedby:RobbieDaymond   13 hrs and 8 mins   2018-01-05  English   \n",
       "2          Narratedby:DanRussell    2 hrs and 3 mins   2020-06-11  English   \n",
       "3      Narratedby:SoneelaNankani  11 hrs and 16 mins   2021-05-10  English   \n",
       "4      Narratedby:JesseBernstein              10 hrs   2010-01-13  English   \n",
       "...                          ...                 ...          ...      ...   \n",
       "87484    Narratedby:ChrisStewart   7 hrs and 34 mins   2017-09-03  English   \n",
       "87485      Narratedby:RobertFass   10 hrs and 7 mins   2017-02-21  English   \n",
       "87486       Narratedby:FloGibson   19 hrs and 4 mins   2016-12-30  English   \n",
       "87487     Narratedby:AntonLesser    4 hrs and 8 mins   2011-02-23  English   \n",
       "87488     Narratedby:FleetCooper     6 hrs and 1 min   2017-07-03  English   \n",
       "\n",
       "                               stars   price release_month  release_year  \n",
       "0         5 out of 5 stars34 ratings  468.00         April          2008  \n",
       "1       4.5 out of 5 stars41 ratings  820.00       January          2018  \n",
       "2       4.5 out of 5 stars38 ratings  410.00          June          2020  \n",
       "3       4.5 out of 5 stars12 ratings  615.00           May          2021  \n",
       "4      4.5 out of 5 stars181 ratings  820.00       January          2010  \n",
       "...                              ...     ...           ...           ...  \n",
       "87484                  Not rated yet  596.00     September          2017  \n",
       "87485                  Not rated yet  820.00      February          2017  \n",
       "87486                  Not rated yet  938.00      December          2016  \n",
       "87487                  Not rated yet  680.00      February          2011  \n",
       "87488                  Not rated yet  569.00          July          2017  \n",
       "\n",
       "[77082 rows x 10 columns]"
      ]
     },
     "execution_count": 4,
     "metadata": {},
     "output_type": "execute_result"
    }
   ],
   "source": [
    "df=df.rename(columns={'releasedate':'release_date'})\n",
    "\n",
    "df['release_date'] = pd.to_datetime(df['release_date'],format='mixed')\n",
    "\n",
    "df['release_month'] = df['release_date'].dt.month_name()\n",
    "\n",
    "df['release_year'] = df['release_date'].dt.year\n",
    "\n",
    "df = df.query('release_year <= 2021')\n",
    "\n",
    "df"
   ]
  },
  {
   "cell_type": "code",
   "execution_count": 5,
   "id": "a7af57db",
   "metadata": {
    "execution": {
     "iopub.execute_input": "2025-03-25T04:08:14.630236Z",
     "iopub.status.busy": "2025-03-25T04:08:14.629843Z",
     "iopub.status.idle": "2025-03-25T04:08:14.637256Z",
     "shell.execute_reply": "2025-03-25T04:08:14.635900Z"
    },
    "papermill": {
     "duration": 0.026723,
     "end_time": "2025-03-25T04:08:14.639027",
     "exception": false,
     "start_time": "2025-03-25T04:08:14.612304",
     "status": "completed"
    },
    "tags": []
   },
   "outputs": [
    {
     "data": {
      "text/plain": [
       "2021"
      ]
     },
     "execution_count": 5,
     "metadata": {},
     "output_type": "execute_result"
    }
   ],
   "source": [
    "df['release_year'].max()"
   ]
  },
  {
   "cell_type": "code",
   "execution_count": 6,
   "id": "9b02ac0e",
   "metadata": {
    "execution": {
     "iopub.execute_input": "2025-03-25T04:08:14.666999Z",
     "iopub.status.busy": "2025-03-25T04:08:14.666629Z",
     "iopub.status.idle": "2025-03-25T04:08:15.246575Z",
     "shell.execute_reply": "2025-03-25T04:08:15.245418Z"
    },
    "papermill": {
     "duration": 0.5963,
     "end_time": "2025-03-25T04:08:15.248625",
     "exception": false,
     "start_time": "2025-03-25T04:08:14.652325",
     "status": "completed"
    },
    "tags": []
   },
   "outputs": [
    {
     "name": "stdout",
     "output_type": "stream",
     "text": [
      "0         140\n",
      "1         788\n",
      "2         123\n",
      "3         676\n",
      "4         600\n",
      "         ... \n",
      "87484     454\n",
      "87485     607\n",
      "87486    1144\n",
      "87487     248\n",
      "87488     361\n",
      "Length: 77082, dtype: int64\n"
     ]
    }
   ],
   "source": [
    "def minutes_conversion(series):\n",
    "    return(series.str.split(\" \", expand=True)\n",
    "        .iloc[:, 0:4:3]\n",
    "        .set_axis([\"hour\",\"minute\"], axis=1)\n",
    "        .assign(\n",
    "            hour = lambda x:(\n",
    "                 x\n",
    "                .hour\n",
    "                .replace('Less',np.nan)\n",
    "                .fillna(\"0\")\n",
    "                .astype(float)\n",
    "                .mul(60)\n",
    "        ),\n",
    "            minute = lambda x:(\n",
    "                x\n",
    "                .minute\n",
    "                .replace(\"minute\",np.nan)\n",
    "                .fillna('0')\n",
    "                .astype(int)       \n",
    "            )  \n",
    "          )\n",
    "          .sum(axis=1)\n",
    "          .astype(int)\n",
    "          )\n",
    "\n",
    "print(minutes_conversion(df['time']))\n",
    "\n",
    "df['time'] = minutes_conversion(df['time'])"
   ]
  },
  {
   "cell_type": "code",
   "execution_count": 7,
   "id": "91b8cea6",
   "metadata": {
    "execution": {
     "iopub.execute_input": "2025-03-25T04:08:15.267481Z",
     "iopub.status.busy": "2025-03-25T04:08:15.267062Z",
     "iopub.status.idle": "2025-03-25T04:08:15.384796Z",
     "shell.execute_reply": "2025-03-25T04:08:15.383300Z"
    },
    "papermill": {
     "duration": 0.129166,
     "end_time": "2025-03-25T04:08:15.386861",
     "exception": false,
     "start_time": "2025-03-25T04:08:15.257695",
     "status": "completed"
    },
    "tags": []
   },
   "outputs": [
    {
     "name": "stdout",
     "output_type": "stream",
     "text": [
      "0        468.0\n",
      "1        820.0\n",
      "2        410.0\n",
      "3        615.0\n",
      "4        820.0\n",
      "         ...  \n",
      "87484    596.0\n",
      "87485    820.0\n",
      "87486    938.0\n",
      "87487    680.0\n",
      "87488    569.0\n",
      "Name: price, Length: 77082, dtype: float64\n"
     ]
    }
   ],
   "source": [
    "def price_numeric_usd(series):\n",
    "    return((series.str.replace(',','')\n",
    "           .str.replace('Free','0'))\n",
    "           .astype(float)\n",
    "           .mul(0.01142)\n",
    "           .round(2)\n",
    "          )\n",
    "\n",
    "def price_numeric_inr(series):\n",
    "    return((series.str.replace(',','')\n",
    "           .str.replace('Free','0'))\n",
    "           .astype(float)\n",
    "          )        \n",
    "\n",
    "print(price_numeric_inr(df['price']))\n",
    "\n",
    "df['price'] = price_numeric_inr(df['price'])"
   ]
  },
  {
   "cell_type": "code",
   "execution_count": 8,
   "id": "9ff4e41f",
   "metadata": {
    "execution": {
     "iopub.execute_input": "2025-03-25T04:08:15.405808Z",
     "iopub.status.busy": "2025-03-25T04:08:15.405451Z",
     "iopub.status.idle": "2025-03-25T04:08:15.714158Z",
     "shell.execute_reply": "2025-03-25T04:08:15.713030Z"
    },
    "papermill": {
     "duration": 0.320431,
     "end_time": "2025-03-25T04:08:15.716148",
     "exception": false,
     "start_time": "2025-03-25T04:08:15.395717",
     "status": "completed"
    },
    "tags": []
   },
   "outputs": [
    {
     "name": "stdout",
     "output_type": "stream",
     "text": [
      "0        GeronimoStilton\n",
      "1            RickRiordan\n",
      "2             JeffKinney\n",
      "3            RickRiordan\n",
      "4            RickRiordan\n",
      "              ...       \n",
      "87484       ChrisStewart\n",
      "87485      StephenO'Shea\n",
      "87486          MarkTwain\n",
      "87487     LaurenceSterne\n",
      "87488      MarkKurlansky\n",
      "Name: author, Length: 77082, dtype: object\n"
     ]
    }
   ],
   "source": [
    "def author_narrator(series):\n",
    "    return(\n",
    "        series\n",
    "        .str\n",
    "        .replace(r'Writtenby:|Narratedby:','',regex=True)\n",
    "        .str\n",
    "        .strip()\n",
    "    )\n",
    "\n",
    "print(author_narrator(df['author']))\n",
    "\n",
    "df['author'] = author_narrator(df['author'])\n",
    "\n",
    "df['narrator'] = author_narrator(df['narrator'])"
   ]
  },
  {
   "cell_type": "code",
   "execution_count": 9,
   "id": "45308594",
   "metadata": {
    "execution": {
     "iopub.execute_input": "2025-03-25T04:08:15.736201Z",
     "iopub.status.busy": "2025-03-25T04:08:15.735839Z",
     "iopub.status.idle": "2025-03-25T04:08:16.361517Z",
     "shell.execute_reply": "2025-03-25T04:08:16.360269Z"
    },
    "papermill": {
     "duration": 0.63785,
     "end_time": "2025-03-25T04:08:16.363311",
     "exception": false,
     "start_time": "2025-03-25T04:08:15.725461",
     "status": "completed"
    },
    "tags": []
   },
   "outputs": [
    {
     "name": "stdout",
     "output_type": "stream",
     "text": [
      "       rating_stars  rating_quantity\n",
      "0               5.0             34.0\n",
      "1               4.5             41.0\n",
      "2               4.5             38.0\n",
      "3               4.5             12.0\n",
      "4               4.5            181.0\n",
      "...             ...              ...\n",
      "87484           0.0              0.0\n",
      "87485           0.0              0.0\n",
      "87486           0.0              0.0\n",
      "87487           0.0              0.0\n",
      "87488           0.0              0.0\n",
      "\n",
      "[77082 rows x 2 columns]\n"
     ]
    },
    {
     "data": {
      "text/html": [
       "<div>\n",
       "<style scoped>\n",
       "    .dataframe tbody tr th:only-of-type {\n",
       "        vertical-align: middle;\n",
       "    }\n",
       "\n",
       "    .dataframe tbody tr th {\n",
       "        vertical-align: top;\n",
       "    }\n",
       "\n",
       "    .dataframe thead th {\n",
       "        text-align: right;\n",
       "    }\n",
       "</style>\n",
       "<table border=\"1\" class=\"dataframe\">\n",
       "  <thead>\n",
       "    <tr style=\"text-align: right;\">\n",
       "      <th></th>\n",
       "      <th>name</th>\n",
       "      <th>author</th>\n",
       "      <th>narrator</th>\n",
       "      <th>time</th>\n",
       "      <th>release_date</th>\n",
       "      <th>language</th>\n",
       "      <th>price</th>\n",
       "      <th>release_month</th>\n",
       "      <th>release_year</th>\n",
       "      <th>rating_stars</th>\n",
       "      <th>rating_quantity</th>\n",
       "    </tr>\n",
       "  </thead>\n",
       "  <tbody>\n",
       "    <tr>\n",
       "      <th>0</th>\n",
       "      <td>Geronimo Stilton #11 &amp; #12</td>\n",
       "      <td>GeronimoStilton</td>\n",
       "      <td>BillLobely</td>\n",
       "      <td>140</td>\n",
       "      <td>2008-04-08</td>\n",
       "      <td>English</td>\n",
       "      <td>468.0</td>\n",
       "      <td>April</td>\n",
       "      <td>2008</td>\n",
       "      <td>5.0</td>\n",
       "      <td>34.0</td>\n",
       "    </tr>\n",
       "    <tr>\n",
       "      <th>1</th>\n",
       "      <td>The Burning Maze</td>\n",
       "      <td>RickRiordan</td>\n",
       "      <td>RobbieDaymond</td>\n",
       "      <td>788</td>\n",
       "      <td>2018-01-05</td>\n",
       "      <td>English</td>\n",
       "      <td>820.0</td>\n",
       "      <td>January</td>\n",
       "      <td>2018</td>\n",
       "      <td>4.5</td>\n",
       "      <td>41.0</td>\n",
       "    </tr>\n",
       "    <tr>\n",
       "      <th>2</th>\n",
       "      <td>The Deep End</td>\n",
       "      <td>JeffKinney</td>\n",
       "      <td>DanRussell</td>\n",
       "      <td>123</td>\n",
       "      <td>2020-06-11</td>\n",
       "      <td>English</td>\n",
       "      <td>410.0</td>\n",
       "      <td>June</td>\n",
       "      <td>2020</td>\n",
       "      <td>4.5</td>\n",
       "      <td>38.0</td>\n",
       "    </tr>\n",
       "    <tr>\n",
       "      <th>3</th>\n",
       "      <td>Daughter of the Deep</td>\n",
       "      <td>RickRiordan</td>\n",
       "      <td>SoneelaNankani</td>\n",
       "      <td>676</td>\n",
       "      <td>2021-05-10</td>\n",
       "      <td>English</td>\n",
       "      <td>615.0</td>\n",
       "      <td>May</td>\n",
       "      <td>2021</td>\n",
       "      <td>4.5</td>\n",
       "      <td>12.0</td>\n",
       "    </tr>\n",
       "    <tr>\n",
       "      <th>4</th>\n",
       "      <td>The Lightning Thief: Percy Jackson, Book 1</td>\n",
       "      <td>RickRiordan</td>\n",
       "      <td>JesseBernstein</td>\n",
       "      <td>600</td>\n",
       "      <td>2010-01-13</td>\n",
       "      <td>English</td>\n",
       "      <td>820.0</td>\n",
       "      <td>January</td>\n",
       "      <td>2010</td>\n",
       "      <td>4.5</td>\n",
       "      <td>181.0</td>\n",
       "    </tr>\n",
       "    <tr>\n",
       "      <th>...</th>\n",
       "      <td>...</td>\n",
       "      <td>...</td>\n",
       "      <td>...</td>\n",
       "      <td>...</td>\n",
       "      <td>...</td>\n",
       "      <td>...</td>\n",
       "      <td>...</td>\n",
       "      <td>...</td>\n",
       "      <td>...</td>\n",
       "      <td>...</td>\n",
       "      <td>...</td>\n",
       "    </tr>\n",
       "    <tr>\n",
       "      <th>87484</th>\n",
       "      <td>Last Days of the Bus Club</td>\n",
       "      <td>ChrisStewart</td>\n",
       "      <td>ChrisStewart</td>\n",
       "      <td>454</td>\n",
       "      <td>2017-09-03</td>\n",
       "      <td>English</td>\n",
       "      <td>596.0</td>\n",
       "      <td>September</td>\n",
       "      <td>2017</td>\n",
       "      <td>0.0</td>\n",
       "      <td>0.0</td>\n",
       "    </tr>\n",
       "    <tr>\n",
       "      <th>87485</th>\n",
       "      <td>The Alps</td>\n",
       "      <td>StephenO'Shea</td>\n",
       "      <td>RobertFass</td>\n",
       "      <td>607</td>\n",
       "      <td>2017-02-21</td>\n",
       "      <td>English</td>\n",
       "      <td>820.0</td>\n",
       "      <td>February</td>\n",
       "      <td>2017</td>\n",
       "      <td>0.0</td>\n",
       "      <td>0.0</td>\n",
       "    </tr>\n",
       "    <tr>\n",
       "      <th>87486</th>\n",
       "      <td>The Innocents Abroad</td>\n",
       "      <td>MarkTwain</td>\n",
       "      <td>FloGibson</td>\n",
       "      <td>1144</td>\n",
       "      <td>2016-12-30</td>\n",
       "      <td>English</td>\n",
       "      <td>938.0</td>\n",
       "      <td>December</td>\n",
       "      <td>2016</td>\n",
       "      <td>0.0</td>\n",
       "      <td>0.0</td>\n",
       "    </tr>\n",
       "    <tr>\n",
       "      <th>87487</th>\n",
       "      <td>A Sentimental Journey</td>\n",
       "      <td>LaurenceSterne</td>\n",
       "      <td>AntonLesser</td>\n",
       "      <td>248</td>\n",
       "      <td>2011-02-23</td>\n",
       "      <td>English</td>\n",
       "      <td>680.0</td>\n",
       "      <td>February</td>\n",
       "      <td>2011</td>\n",
       "      <td>0.0</td>\n",
       "      <td>0.0</td>\n",
       "    </tr>\n",
       "    <tr>\n",
       "      <th>87488</th>\n",
       "      <td>Havana</td>\n",
       "      <td>MarkKurlansky</td>\n",
       "      <td>FleetCooper</td>\n",
       "      <td>361</td>\n",
       "      <td>2017-07-03</td>\n",
       "      <td>English</td>\n",
       "      <td>569.0</td>\n",
       "      <td>July</td>\n",
       "      <td>2017</td>\n",
       "      <td>0.0</td>\n",
       "      <td>0.0</td>\n",
       "    </tr>\n",
       "  </tbody>\n",
       "</table>\n",
       "<p>77082 rows × 11 columns</p>\n",
       "</div>"
      ],
      "text/plain": [
       "                                             name           author  \\\n",
       "0                      Geronimo Stilton #11 & #12  GeronimoStilton   \n",
       "1                                The Burning Maze      RickRiordan   \n",
       "2                                    The Deep End       JeffKinney   \n",
       "3                            Daughter of the Deep      RickRiordan   \n",
       "4      The Lightning Thief: Percy Jackson, Book 1      RickRiordan   \n",
       "...                                           ...              ...   \n",
       "87484                   Last Days of the Bus Club     ChrisStewart   \n",
       "87485                                    The Alps    StephenO'Shea   \n",
       "87486                        The Innocents Abroad        MarkTwain   \n",
       "87487                       A Sentimental Journey   LaurenceSterne   \n",
       "87488                                      Havana    MarkKurlansky   \n",
       "\n",
       "             narrator  time release_date language  price release_month  \\\n",
       "0          BillLobely   140   2008-04-08  English  468.0         April   \n",
       "1       RobbieDaymond   788   2018-01-05  English  820.0       January   \n",
       "2          DanRussell   123   2020-06-11  English  410.0          June   \n",
       "3      SoneelaNankani   676   2021-05-10  English  615.0           May   \n",
       "4      JesseBernstein   600   2010-01-13  English  820.0       January   \n",
       "...               ...   ...          ...      ...    ...           ...   \n",
       "87484    ChrisStewart   454   2017-09-03  English  596.0     September   \n",
       "87485      RobertFass   607   2017-02-21  English  820.0      February   \n",
       "87486       FloGibson  1144   2016-12-30  English  938.0      December   \n",
       "87487     AntonLesser   248   2011-02-23  English  680.0      February   \n",
       "87488     FleetCooper   361   2017-07-03  English  569.0          July   \n",
       "\n",
       "       release_year  rating_stars  rating_quantity  \n",
       "0              2008           5.0             34.0  \n",
       "1              2018           4.5             41.0  \n",
       "2              2020           4.5             38.0  \n",
       "3              2021           4.5             12.0  \n",
       "4              2010           4.5            181.0  \n",
       "...             ...           ...              ...  \n",
       "87484          2017           0.0              0.0  \n",
       "87485          2017           0.0              0.0  \n",
       "87486          2016           0.0              0.0  \n",
       "87487          2011           0.0              0.0  \n",
       "87488          2017           0.0              0.0  \n",
       "\n",
       "[77082 rows x 11 columns]"
      ]
     },
     "execution_count": 9,
     "metadata": {},
     "output_type": "execute_result"
    }
   ],
   "source": [
    "def ratings_split(series):\n",
    "    return (\n",
    "        series.str.split(' ',expand=True)\n",
    "        .iloc[:, 0:5:4]\n",
    "        .set_axis(['rating_stars','rating_quantity'],axis=1)\n",
    "        .assign(\n",
    "            rating_stars = lambda x:(\n",
    "                x\n",
    "                .rating_stars\n",
    "                .replace('Not',np.nan)\n",
    "                .astype(float)\n",
    "                .fillna(0)\n",
    "            ),\n",
    "\n",
    "            rating_quantity = lambda x:(\n",
    "                x\n",
    "                .rating_quantity\n",
    "                .replace(r'^(stars)|,','',regex=True)\n",
    "                .astype(float)\n",
    "                .fillna(0)\n",
    "            )\n",
    "        )\n",
    "    )\n",
    "\n",
    "\n",
    "print(ratings_split(df['stars']))\n",
    "\n",
    "ratings_df = ratings_split(df['stars'])\n",
    "\n",
    "df = pd.concat([df,ratings_df],axis=1)\n",
    "\n",
    "df = df.drop(columns='stars')\n",
    "\n",
    "df\n",
    "\n"
   ]
  },
  {
   "cell_type": "code",
   "execution_count": 10,
   "id": "7acdd1ef",
   "metadata": {
    "execution": {
     "iopub.execute_input": "2025-03-25T04:08:16.382789Z",
     "iopub.status.busy": "2025-03-25T04:08:16.382413Z",
     "iopub.status.idle": "2025-03-25T04:08:16.389073Z",
     "shell.execute_reply": "2025-03-25T04:08:16.388085Z"
    },
    "papermill": {
     "duration": 0.018223,
     "end_time": "2025-03-25T04:08:16.390649",
     "exception": false,
     "start_time": "2025-03-25T04:08:16.372426",
     "status": "completed"
    },
    "tags": []
   },
   "outputs": [
    {
     "data": {
      "text/plain": [
       "name                       object\n",
       "author                     object\n",
       "narrator                   object\n",
       "time                        int64\n",
       "release_date       datetime64[ns]\n",
       "language                   object\n",
       "price                     float64\n",
       "release_month              object\n",
       "release_year                int32\n",
       "rating_stars              float64\n",
       "rating_quantity           float64\n",
       "dtype: object"
      ]
     },
     "execution_count": 10,
     "metadata": {},
     "output_type": "execute_result"
    }
   ],
   "source": [
    "df.dtypes"
   ]
  },
  {
   "cell_type": "markdown",
   "id": "3f7f7e35",
   "metadata": {
    "papermill": {
     "duration": 0.008796,
     "end_time": "2025-03-25T04:08:16.409137",
     "exception": false,
     "start_time": "2025-03-25T04:08:16.400341",
     "status": "completed"
    },
    "tags": []
   },
   "source": [
    "# Yearly trends:"
   ]
  },
  {
   "cell_type": "markdown",
   "id": "492a0453",
   "metadata": {
    "papermill": {
     "duration": 0.010341,
     "end_time": "2025-03-25T04:08:16.428755",
     "exception": false,
     "start_time": "2025-03-25T04:08:16.418414",
     "status": "completed"
    },
    "tags": []
   },
   "source": [
    "**How does the average price trend YoY?**\n",
    "\n",
    "This pricing trend seems surprisingly flat, as I would expect a more steady upward trend"
   ]
  },
  {
   "cell_type": "code",
   "execution_count": 11,
   "id": "43d297fd",
   "metadata": {
    "execution": {
     "iopub.execute_input": "2025-03-25T04:08:16.448454Z",
     "iopub.status.busy": "2025-03-25T04:08:16.448056Z",
     "iopub.status.idle": "2025-03-25T04:08:17.365237Z",
     "shell.execute_reply": "2025-03-25T04:08:17.364119Z"
    },
    "papermill": {
     "duration": 0.929205,
     "end_time": "2025-03-25T04:08:17.367439",
     "exception": false,
     "start_time": "2025-03-25T04:08:16.438234",
     "status": "completed"
    },
    "tags": []
   },
   "outputs": [
    {
     "data": {
      "text/plain": [
       "<Axes: title={'center': 'Average Price Year over Year'}, xlabel='release_year'>"
      ]
     },
     "execution_count": 11,
     "metadata": {},
     "output_type": "execute_result"
    },
    {
     "data": {
      "image/png": "[encoded data removed]",
      "text/plain": [
       "<Figure size 900x600 with 1 Axes>"
      ]
     },
     "metadata": {},
     "output_type": "display_data"
    }
   ],
   "source": [
    "import plotly.express as px\n",
    "\n",
    "price_avg = df.loc[:, ['price','release_year']]\n",
    "\n",
    "price_avg = price_avg.groupby('release_year',as_index=False)['price'].mean()\n",
    "\n",
    "price_avg.plot(kind='bar',\n",
    "               x='release_year',\n",
    "               y='price',\n",
    "               title='Average Price Year over Year',\n",
    "               figsize=(9,6)\n",
    "              )"
   ]
  },
  {
   "cell_type": "markdown",
   "id": "91c5f8c5",
   "metadata": {
    "papermill": {
     "duration": 0.010513,
     "end_time": "2025-03-25T04:08:17.389033",
     "exception": false,
     "start_time": "2025-03-25T04:08:17.378520",
     "status": "completed"
    },
    "tags": []
   },
   "source": [
    "**What is the distribution of audiobooks released YoY? Trends?**\n",
    "\n",
    "There is a steady upward trend, which makes sense. However, the 2021 dramatic spike seems odd."
   ]
  },
  {
   "cell_type": "code",
   "execution_count": 12,
   "id": "fdfe9e8d",
   "metadata": {
    "execution": {
     "iopub.execute_input": "2025-03-25T04:08:17.412734Z",
     "iopub.status.busy": "2025-03-25T04:08:17.412152Z",
     "iopub.status.idle": "2025-03-25T04:08:17.748484Z",
     "shell.execute_reply": "2025-03-25T04:08:17.747322Z"
    },
    "papermill": {
     "duration": 0.349857,
     "end_time": "2025-03-25T04:08:17.750334",
     "exception": false,
     "start_time": "2025-03-25T04:08:17.400477",
     "status": "completed"
    },
    "tags": []
   },
   "outputs": [
    {
     "data": {
      "text/plain": [
       "<Axes: title={'center': 'Distribution of Audiobook Releases Year over Year'}, ylabel='Frequency'>"
      ]
     },
     "execution_count": 12,
     "metadata": {},
     "output_type": "execute_result"
    },
    {
     "data": {
      "image/png": "[encoded data removed]",
      "text/plain": [
       "<Figure size 900x600 with 1 Axes>"
      ]
     },
     "metadata": {},
     "output_type": "display_data"
    }
   ],
   "source": [
    "df['release_year'].plot(kind='hist',\n",
    "        title='Distribution of Audiobook Releases Year over Year',\n",
    "        figsize=(9,6)\n",
    "        )"
   ]
  },
  {
   "cell_type": "markdown",
   "id": "1ff34473",
   "metadata": {
    "papermill": {
     "duration": 0.010525,
     "end_time": "2025-03-25T04:08:17.771472",
     "exception": false,
     "start_time": "2025-03-25T04:08:17.760947",
     "status": "completed"
    },
    "tags": []
   },
   "source": [
    "**Are there trends in rating_quantity mean YoY?**\n",
    "\n",
    "There is a big caveat with rating_stars and rating_quantity: **only 24% of books are rated (rated zero)**. For reasons unknown\n",
    "\n",
    "If we are looking at the total descriptive statistics for this (including 0s) it will shift the mean/median and is good to be aware for the sum.\n",
    "\n",
    "**Next are the descriptive statistics for ratings_quantity with vs without zeros**"
   ]
  },
  {
   "cell_type": "code",
   "execution_count": 13,
   "id": "3205e2ae",
   "metadata": {
    "execution": {
     "iopub.execute_input": "2025-03-25T04:08:17.793725Z",
     "iopub.status.busy": "2025-03-25T04:08:17.793254Z",
     "iopub.status.idle": "2025-03-25T04:08:17.800424Z",
     "shell.execute_reply": "2025-03-25T04:08:17.799265Z"
    },
    "papermill": {
     "duration": 0.020703,
     "end_time": "2025-03-25T04:08:17.802419",
     "exception": false,
     "start_time": "2025-03-25T04:08:17.781716",
     "status": "completed"
    },
    "tags": []
   },
   "outputs": [],
   "source": [
    "ratings_quantity = df[['rating_quantity']]\n",
    "ratings_quantity_no_zero = ratings_quantity[ratings_quantity['rating_quantity'] > 0]"
   ]
  },
  {
   "cell_type": "code",
   "execution_count": 14,
   "id": "de5f201f",
   "metadata": {
    "execution": {
     "iopub.execute_input": "2025-03-25T04:08:17.825092Z",
     "iopub.status.busy": "2025-03-25T04:08:17.824631Z",
     "iopub.status.idle": "2025-03-25T04:08:17.915089Z",
     "shell.execute_reply": "2025-03-25T04:08:17.913710Z"
    },
    "papermill": {
     "duration": 0.10392,
     "end_time": "2025-03-25T04:08:17.916790",
     "exception": false,
     "start_time": "2025-03-25T04:08:17.812870",
     "status": "completed"
    },
    "tags": []
   },
   "outputs": [
    {
     "data": {
      "text/html": [
       "<div>\n",
       "<style scoped>\n",
       "    .dataframe tbody tr th:only-of-type {\n",
       "        vertical-align: middle;\n",
       "    }\n",
       "\n",
       "    .dataframe tbody tr th {\n",
       "        vertical-align: top;\n",
       "    }\n",
       "\n",
       "    .dataframe thead th {\n",
       "        text-align: right;\n",
       "    }\n",
       "</style>\n",
       "<table border=\"1\" class=\"dataframe\">\n",
       "  <thead>\n",
       "    <tr style=\"text-align: right;\">\n",
       "      <th></th>\n",
       "      <th>rating_quantity</th>\n",
       "    </tr>\n",
       "  </thead>\n",
       "  <tbody>\n",
       "    <tr>\n",
       "      <th>count</th>\n",
       "      <td>77082.000000</td>\n",
       "    </tr>\n",
       "    <tr>\n",
       "      <th>mean</th>\n",
       "      <td>4.215835</td>\n",
       "    </tr>\n",
       "    <tr>\n",
       "      <th>std</th>\n",
       "      <td>92.141777</td>\n",
       "    </tr>\n",
       "    <tr>\n",
       "      <th>min</th>\n",
       "      <td>0.000000</td>\n",
       "    </tr>\n",
       "    <tr>\n",
       "      <th>25%</th>\n",
       "      <td>0.000000</td>\n",
       "    </tr>\n",
       "    <tr>\n",
       "      <th>50%</th>\n",
       "      <td>0.000000</td>\n",
       "    </tr>\n",
       "    <tr>\n",
       "      <th>75%</th>\n",
       "      <td>0.000000</td>\n",
       "    </tr>\n",
       "    <tr>\n",
       "      <th>max</th>\n",
       "      <td>12573.000000</td>\n",
       "    </tr>\n",
       "  </tbody>\n",
       "</table>\n",
       "</div>"
      ],
      "text/plain": [
       "       rating_quantity\n",
       "count     77082.000000\n",
       "mean          4.215835\n",
       "std          92.141777\n",
       "min           0.000000\n",
       "25%           0.000000\n",
       "50%           0.000000\n",
       "75%           0.000000\n",
       "max       12573.000000"
      ]
     },
     "execution_count": 14,
     "metadata": {},
     "output_type": "execute_result"
    }
   ],
   "source": [
    "ratings_quantity.describe()"
   ]
  },
  {
   "cell_type": "code",
   "execution_count": 15,
   "id": "9fca60fa",
   "metadata": {
    "execution": {
     "iopub.execute_input": "2025-03-25T04:08:17.941373Z",
     "iopub.status.busy": "2025-03-25T04:08:17.940966Z",
     "iopub.status.idle": "2025-03-25T04:08:17.955237Z",
     "shell.execute_reply": "2025-03-25T04:08:17.954128Z"
    },
    "papermill": {
     "duration": 0.02913,
     "end_time": "2025-03-25T04:08:17.957214",
     "exception": false,
     "start_time": "2025-03-25T04:08:17.928084",
     "status": "completed"
    },
    "tags": []
   },
   "outputs": [
    {
     "data": {
      "text/html": [
       "<div>\n",
       "<style scoped>\n",
       "    .dataframe tbody tr th:only-of-type {\n",
       "        vertical-align: middle;\n",
       "    }\n",
       "\n",
       "    .dataframe tbody tr th {\n",
       "        vertical-align: top;\n",
       "    }\n",
       "\n",
       "    .dataframe thead th {\n",
       "        text-align: right;\n",
       "    }\n",
       "</style>\n",
       "<table border=\"1\" class=\"dataframe\">\n",
       "  <thead>\n",
       "    <tr style=\"text-align: right;\">\n",
       "      <th></th>\n",
       "      <th>rating_quantity</th>\n",
       "    </tr>\n",
       "  </thead>\n",
       "  <tbody>\n",
       "    <tr>\n",
       "      <th>count</th>\n",
       "      <td>14847.000000</td>\n",
       "    </tr>\n",
       "    <tr>\n",
       "      <th>mean</th>\n",
       "      <td>21.887587</td>\n",
       "    </tr>\n",
       "    <tr>\n",
       "      <th>std</th>\n",
       "      <td>209.031440</td>\n",
       "    </tr>\n",
       "    <tr>\n",
       "      <th>min</th>\n",
       "      <td>1.000000</td>\n",
       "    </tr>\n",
       "    <tr>\n",
       "      <th>25%</th>\n",
       "      <td>1.000000</td>\n",
       "    </tr>\n",
       "    <tr>\n",
       "      <th>50%</th>\n",
       "      <td>2.000000</td>\n",
       "    </tr>\n",
       "    <tr>\n",
       "      <th>75%</th>\n",
       "      <td>7.000000</td>\n",
       "    </tr>\n",
       "    <tr>\n",
       "      <th>max</th>\n",
       "      <td>12573.000000</td>\n",
       "    </tr>\n",
       "  </tbody>\n",
       "</table>\n",
       "</div>"
      ],
      "text/plain": [
       "       rating_quantity\n",
       "count     14847.000000\n",
       "mean         21.887587\n",
       "std         209.031440\n",
       "min           1.000000\n",
       "25%           1.000000\n",
       "50%           2.000000\n",
       "75%           7.000000\n",
       "max       12573.000000"
      ]
     },
     "execution_count": 15,
     "metadata": {},
     "output_type": "execute_result"
    }
   ],
   "source": [
    "ratings_quantity_no_zero.describe()"
   ]
  },
  {
   "cell_type": "markdown",
   "id": "432b1b9b",
   "metadata": {
    "papermill": {
     "duration": 0.010562,
     "end_time": "2025-03-25T04:08:17.979494",
     "exception": false,
     "start_time": "2025-03-25T04:08:17.968932",
     "status": "completed"
    },
    "tags": []
   },
   "source": [
    "**Next, I will provide a chart of the proportion of zeros in rating_quantity by year**"
   ]
  },
  {
   "cell_type": "code",
   "execution_count": 16,
   "id": "930b971d",
   "metadata": {
    "execution": {
     "iopub.execute_input": "2025-03-25T04:08:18.002593Z",
     "iopub.status.busy": "2025-03-25T04:08:18.002206Z",
     "iopub.status.idle": "2025-03-25T04:08:18.455164Z",
     "shell.execute_reply": "2025-03-25T04:08:18.453517Z"
    },
    "papermill": {
     "duration": 0.46732,
     "end_time": "2025-03-25T04:08:18.457577",
     "exception": false,
     "start_time": "2025-03-25T04:08:17.990257",
     "status": "completed"
    },
    "tags": []
   },
   "outputs": [
    {
     "data": {
      "text/plain": [
       "<Axes: xlabel='release_year'>"
      ]
     },
     "execution_count": 16,
     "metadata": {},
     "output_type": "execute_result"
    },
    {
     "data": {
      "image/png": "[encoded data removed]",
      "text/plain": [
       "<Figure size 640x480 with 1 Axes>"
      ]
     },
     "metadata": {},
     "output_type": "display_data"
    }
   ],
   "source": [
    "import plotly.graph_objs as go\n",
    "\n",
    "\n",
    "def calculate_rating_zero_counts():  \n",
    "      \n",
    "          ratings_quantity_count = df[['rating_quantity','release_year']]\n",
    "          ratings_quantity_count_no_zero = ratings_quantity_count[ratings_quantity_count['rating_quantity'] > 0]\n",
    "                        \n",
    "\n",
    "                            \n",
    "          ratings_quantity_count_no_zero = (ratings_quantity_count_no_zero['release_year']\n",
    "                                                   .value_counts()\n",
    "                                                   .reset_index()\n",
    "                                                   .rename(columns={'count':'no_zero_count'}))\n",
    "                            \n",
    "          ratings_quantity_count = (ratings_quantity_count['release_year']\n",
    "                                                    .value_counts()\n",
    "                                                    .reset_index()\n",
    "                                                    .rename(columns={'count':'zero_count'}))\n",
    "                            \n",
    "\n",
    "          return ratings_quantity_count, ratings_quantity_count_no_zero\n",
    "    \n",
    "ratings_quantity_count, ratings_quantity_count_no_zero = calculate_rating_zero_counts()\n",
    "\n",
    "ratings_zero = pd.merge(\n",
    "                      ratings_quantity_count,\n",
    "                      ratings_quantity_count_no_zero,\n",
    "                      on='release_year').fillna(0)\n",
    "\n",
    "ratings_zero = ratings_zero.set_index('release_year').sort_values(by='release_year')\n",
    "\n",
    "ratings_zero.plot.bar(stacked=True)\n"
   ]
  },
  {
   "cell_type": "markdown",
   "id": "1d6911fc",
   "metadata": {
    "papermill": {
     "duration": 0.01171,
     "end_time": "2025-03-25T04:08:18.481524",
     "exception": false,
     "start_time": "2025-03-25T04:08:18.469814",
     "status": "completed"
    },
    "tags": []
   },
   "source": [
    "**Next, are some charts for the Sum/Mean/Median of rating_quantity by year**\n",
    "\n",
    "* On the \"Sum by Year\" chart below, there is a ***large decrease*** in 2021. This is due to a ***large increase*** in the chart above in unrated (zero) audiobooks, which brings the mean down.\n",
    "* On the \"Mean/Median of the Year\" chart below, The outlier (1998) has only 3 books, but have high quantities of reviews."
   ]
  },
  {
   "cell_type": "code",
   "execution_count": 17,
   "id": "ca119c90",
   "metadata": {
    "execution": {
     "iopub.execute_input": "2025-03-25T04:08:18.507976Z",
     "iopub.status.busy": "2025-03-25T04:08:18.507541Z",
     "iopub.status.idle": "2025-03-25T04:08:19.525539Z",
     "shell.execute_reply": "2025-03-25T04:08:19.524388Z"
    },
    "papermill": {
     "duration": 1.033372,
     "end_time": "2025-03-25T04:08:19.527514",
     "exception": false,
     "start_time": "2025-03-25T04:08:18.494142",
     "status": "completed"
    },
    "tags": []
   },
   "outputs": [
    {
     "data": {
      "text/plain": [
       "<matplotlib.legend.Legend at 0x7c55d83d3df0>"
      ]
     },
     "execution_count": 17,
     "metadata": {},
     "output_type": "execute_result"
    },
    {
     "data": {
      "image/png": "[encoded data removed]",
      "text/plain": [
       "<Figure size 1000x600 with 3 Axes>"
      ]
     },
     "metadata": {},
     "output_type": "display_data"
    }
   ],
   "source": [
    "\n",
    "ratings_quantity_year = df[['rating_quantity','release_year']]\n",
    "\n",
    "rating_quantity_desc = ratings_quantity_year.groupby('release_year',as_index=False)['rating_quantity'].agg(['sum','mean','median'])\n",
    "\n",
    "axes = rating_quantity_desc.plot.bar(x='release_year',subplots=True,position=1,title=['sum','mean','median'],figsize=(10,6))\n",
    "\n",
    "axes[1].legend(loc=5)"
   ]
  },
  {
   "cell_type": "markdown",
   "id": "3d89c6a3",
   "metadata": {
    "papermill": {
     "duration": 0.012898,
     "end_time": "2025-03-25T04:08:19.554876",
     "exception": false,
     "start_time": "2025-03-25T04:08:19.541978",
     "status": "completed"
    },
    "tags": []
   },
   "source": [
    "# Pricing:"
   ]
  },
  {
   "cell_type": "markdown",
   "id": "a5af739d",
   "metadata": {
    "papermill": {
     "duration": 0.012098,
     "end_time": "2025-03-25T04:08:19.580245",
     "exception": false,
     "start_time": "2025-03-25T04:08:19.568147",
     "status": "completed"
    },
    "tags": []
   },
   "source": [
    "Is there a correlation betwen stars and price? "
   ]
  },
  {
   "cell_type": "markdown",
   "id": "0c52ad4c",
   "metadata": {
    "papermill": {
     "duration": 0.011861,
     "end_time": "2025-03-25T04:08:19.604286",
     "exception": false,
     "start_time": "2025-03-25T04:08:19.592425",
     "status": "completed"
    },
    "tags": []
   },
   "source": [
    "What percent are free and not free?"
   ]
  },
  {
   "cell_type": "markdown",
   "id": "c977e9f9",
   "metadata": {
    "papermill": {
     "duration": 0.011832,
     "end_time": "2025-03-25T04:08:19.628378",
     "exception": false,
     "start_time": "2025-03-25T04:08:19.616546",
     "status": "completed"
    },
    "tags": []
   },
   "source": [
    "# Ratings:"
   ]
  },
  {
   "cell_type": "markdown",
   "id": "cc6776d1",
   "metadata": {
    "papermill": {
     "duration": 0.011907,
     "end_time": "2025-03-25T04:08:19.652446",
     "exception": false,
     "start_time": "2025-03-25T04:08:19.640539",
     "status": "completed"
    },
    "tags": []
   },
   "source": [
    "What is the ***overall*** distribution of the rating_quantity?\n",
    "\n",
    "0-4 is an extreme (low) outlier at 72.242k, with the subsequent (5-9) at only 1.8k\n",
    "\n",
    "12.56k-12.59k is an extreme (high) outlier and only one book with that quantity"
   ]
  },
  {
   "cell_type": "code",
   "execution_count": 18,
   "id": "2ca3aaa1",
   "metadata": {
    "execution": {
     "iopub.execute_input": "2025-03-25T04:08:19.678536Z",
     "iopub.status.busy": "2025-03-25T04:08:19.678102Z",
     "iopub.status.idle": "2025-03-25T04:08:20.733755Z",
     "shell.execute_reply": "2025-03-25T04:08:20.732683Z"
    },
    "papermill": {
     "duration": 1.0703,
     "end_time": "2025-03-25T04:08:20.735221",
     "exception": false,
     "start_time": "2025-03-25T04:08:19.664921",
     "status": "completed"
    },
    "tags": []
   },
   "outputs": [
    {
     "data": {
      "text/plain": [
       "<Axes: title={'center': 'Distribution of Rating Quantity'}, ylabel='Frequency'>"
      ]
     },
     "execution_count": 18,
     "metadata": {},
     "output_type": "execute_result"
    },
    {
     "data": {
      "image/png": "[encoded data removed]",
      "text/plain": [
       "<Figure size 1100x600 with 1 Axes>"
      ]
     },
     "metadata": {},
     "output_type": "display_data"
    }
   ],
   "source": [
    "df['rating_quantity'].plot(kind='hist',\n",
    "        title='Distribution of Rating Quantity',\n",
    "        figsize=(11,6),\n",
    "        logy=True,\n",
    "        bins=200                  \n",
    "        )"
   ]
  },
  {
   "cell_type": "markdown",
   "id": "b08ec776",
   "metadata": {
    "papermill": {
     "duration": 0.012505,
     "end_time": "2025-03-25T04:08:20.760534",
     "exception": false,
     "start_time": "2025-03-25T04:08:20.748029",
     "status": "completed"
    },
    "tags": []
   },
   "source": [
    "What is the **overall** distribution of rating stars?\n",
    "\n",
    "Following the high level of zeros in rating_quantity, we see the same in rating_stars\n",
    "\n",
    "To better highlight the other ratings, I am going to exclude 0\n",
    "\n",
    "It seems that when users rate, they rate highly- with the vast majority between 4 and 5"
   ]
  },
  {
   "cell_type": "code",
   "execution_count": 19,
   "id": "2b312dc0",
   "metadata": {
    "execution": {
     "iopub.execute_input": "2025-03-25T04:08:20.788133Z",
     "iopub.status.busy": "2025-03-25T04:08:20.787794Z",
     "iopub.status.idle": "2025-03-25T04:08:21.497747Z",
     "shell.execute_reply": "2025-03-25T04:08:21.496318Z"
    },
    "papermill": {
     "duration": 0.725893,
     "end_time": "2025-03-25T04:08:21.499758",
     "exception": false,
     "start_time": "2025-03-25T04:08:20.773865",
     "status": "completed"
    },
    "tags": []
   },
   "outputs": [
    {
     "data": {
      "text/plain": [
       "<Axes: title={'center': 'Distribution of Rating Stars'}, ylabel='Frequency'>"
      ]
     },
     "execution_count": 19,
     "metadata": {},
     "output_type": "execute_result"
    },
    {
     "data": {
      "image/png": "[encoded data removed]",
      "text/plain": [
       "<Figure size 1100x600 with 1 Axes>"
      ]
     },
     "metadata": {},
     "output_type": "display_data"
    }
   ],
   "source": [
    "df['rating_stars'].plot(kind='hist',\n",
    "        title='Distribution of Rating Stars',\n",
    "        figsize=(11,6),\n",
    "        logy=True,\n",
    "        bins=10\n",
    "        )"
   ]
  },
  {
   "cell_type": "markdown",
   "id": "4583b146",
   "metadata": {
    "papermill": {
     "duration": 0.014124,
     "end_time": "2025-03-25T04:08:21.528784",
     "exception": false,
     "start_time": "2025-03-25T04:08:21.514660",
     "status": "completed"
    },
    "tags": []
   },
   "source": [
    "# Narrator:"
   ]
  },
  {
   "cell_type": "markdown",
   "id": "8fe54320",
   "metadata": {
    "papermill": {
     "duration": 0.015037,
     "end_time": "2025-03-25T04:08:21.557873",
     "exception": false,
     "start_time": "2025-03-25T04:08:21.542836",
     "status": "completed"
    },
    "tags": []
   },
   "source": [
    "Which narrator has narrated the most? and what is the distribution like?\n",
    "\n",
    "For the distribution, narrating once is an extreme outlier at 19.11k, after that, the majority is less than 50"
   ]
  },
  {
   "cell_type": "code",
   "execution_count": 20,
   "id": "5c2e0fb7",
   "metadata": {
    "execution": {
     "iopub.execute_input": "2025-03-25T04:08:21.587837Z",
     "iopub.status.busy": "2025-03-25T04:08:21.587500Z",
     "iopub.status.idle": "2025-03-25T04:08:21.621557Z",
     "shell.execute_reply": "2025-03-25T04:08:21.620457Z"
    },
    "papermill": {
     "duration": 0.051453,
     "end_time": "2025-03-25T04:08:21.623472",
     "exception": false,
     "start_time": "2025-03-25T04:08:21.572019",
     "status": "completed"
    },
    "tags": []
   },
   "outputs": [
    {
     "data": {
      "text/html": [
       "<div>\n",
       "<style scoped>\n",
       "    .dataframe tbody tr th:only-of-type {\n",
       "        vertical-align: middle;\n",
       "    }\n",
       "\n",
       "    .dataframe tbody tr th {\n",
       "        vertical-align: top;\n",
       "    }\n",
       "\n",
       "    .dataframe thead th {\n",
       "        text-align: right;\n",
       "    }\n",
       "</style>\n",
       "<table border=\"1\" class=\"dataframe\">\n",
       "  <thead>\n",
       "    <tr style=\"text-align: right;\">\n",
       "      <th></th>\n",
       "      <th>narrator</th>\n",
       "      <th>narrator_count</th>\n",
       "    </tr>\n",
       "  </thead>\n",
       "  <tbody>\n",
       "    <tr>\n",
       "      <th>0</th>\n",
       "      <td>矢島雅弘,石橋遊</td>\n",
       "      <td>874</td>\n",
       "    </tr>\n",
       "    <tr>\n",
       "      <th>1</th>\n",
       "      <td>Intuitive</td>\n",
       "      <td>465</td>\n",
       "    </tr>\n",
       "    <tr>\n",
       "      <th>2</th>\n",
       "      <td>uncredited</td>\n",
       "      <td>326</td>\n",
       "    </tr>\n",
       "    <tr>\n",
       "      <th>3</th>\n",
       "      <td>中西貴之,BJ</td>\n",
       "      <td>311</td>\n",
       "    </tr>\n",
       "    <tr>\n",
       "      <th>4</th>\n",
       "      <td>BookBuddyDigitalMedia</td>\n",
       "      <td>259</td>\n",
       "    </tr>\n",
       "    <tr>\n",
       "      <th>5</th>\n",
       "      <td>ДмитрийЕвстратов</td>\n",
       "      <td>221</td>\n",
       "    </tr>\n",
       "    <tr>\n",
       "      <th>6</th>\n",
       "      <td>BillBrown</td>\n",
       "      <td>198</td>\n",
       "    </tr>\n",
       "    <tr>\n",
       "      <th>7</th>\n",
       "      <td>div.</td>\n",
       "      <td>197</td>\n",
       "    </tr>\n",
       "    <tr>\n",
       "      <th>8</th>\n",
       "      <td>SeanPratt</td>\n",
       "      <td>173</td>\n",
       "    </tr>\n",
       "    <tr>\n",
       "      <th>9</th>\n",
       "      <td>TomParks</td>\n",
       "      <td>160</td>\n",
       "    </tr>\n",
       "  </tbody>\n",
       "</table>\n",
       "</div>"
      ],
      "text/plain": [
       "                narrator  narrator_count\n",
       "0               矢島雅弘,石橋遊             874\n",
       "1              Intuitive             465\n",
       "2             uncredited             326\n",
       "3                中西貴之,BJ             311\n",
       "4  BookBuddyDigitalMedia             259\n",
       "5       ДмитрийЕвстратов             221\n",
       "6              BillBrown             198\n",
       "7                   div.             197\n",
       "8              SeanPratt             173\n",
       "9               TomParks             160"
      ]
     },
     "execution_count": 20,
     "metadata": {},
     "output_type": "execute_result"
    }
   ],
   "source": [
    "df_narrator = df['narrator'].value_counts().reset_index().rename(columns={'count':'narrator_count'})\n",
    "\n",
    "df_narrator.head(10)"
   ]
  },
  {
   "cell_type": "code",
   "execution_count": 21,
   "id": "80053278",
   "metadata": {
    "execution": {
     "iopub.execute_input": "2025-03-25T04:08:21.652440Z",
     "iopub.status.busy": "2025-03-25T04:08:21.652059Z",
     "iopub.status.idle": "2025-03-25T04:08:22.766858Z",
     "shell.execute_reply": "2025-03-25T04:08:22.765777Z"
    },
    "papermill": {
     "duration": 1.130975,
     "end_time": "2025-03-25T04:08:22.768469",
     "exception": false,
     "start_time": "2025-03-25T04:08:21.637494",
     "status": "completed"
    },
    "tags": []
   },
   "outputs": [
    {
     "data": {
      "text/plain": [
       "<Axes: title={'center': 'Distribution of Narrator Count'}, ylabel='Frequency'>"
      ]
     },
     "execution_count": 21,
     "metadata": {},
     "output_type": "execute_result"
    },
    {
     "data": {
      "image/png": "[encoded data removed]",
      "text/plain": [
       "<Figure size 1500x600 with 1 Axes>"
      ]
     },
     "metadata": {},
     "output_type": "display_data"
    }
   ],
   "source": [
    " df_narrator['narrator_count'].plot(kind='hist',\n",
    "         title='Distribution of Narrator Count',\n",
    "         figsize=(15,6),\n",
    "         logy=True,\n",
    "         bins =300                           \n",
    "         )"
   ]
  },
  {
   "cell_type": "markdown",
   "id": "fd2d1e7c",
   "metadata": {
    "papermill": {
     "duration": 0.014566,
     "end_time": "2025-03-25T04:08:22.797832",
     "exception": false,
     "start_time": "2025-03-25T04:08:22.783266",
     "status": "completed"
    },
    "tags": []
   },
   "source": [
    "What is the distribution of narration time?\n",
    "\n",
    "The vast majority are very short\n"
   ]
  },
  {
   "cell_type": "code",
   "execution_count": 22,
   "id": "f8230233",
   "metadata": {
    "execution": {
     "iopub.execute_input": "2025-03-25T04:08:22.832383Z",
     "iopub.status.busy": "2025-03-25T04:08:22.831999Z",
     "iopub.status.idle": "2025-03-25T04:08:22.844461Z",
     "shell.execute_reply": "2025-03-25T04:08:22.843271Z"
    },
    "papermill": {
     "duration": 0.031154,
     "end_time": "2025-03-25T04:08:22.846158",
     "exception": false,
     "start_time": "2025-03-25T04:08:22.815004",
     "status": "completed"
    },
    "tags": []
   },
   "outputs": [
    {
     "data": {
      "text/html": [
       "<div>\n",
       "<style scoped>\n",
       "    .dataframe tbody tr th:only-of-type {\n",
       "        vertical-align: middle;\n",
       "    }\n",
       "\n",
       "    .dataframe tbody tr th {\n",
       "        vertical-align: top;\n",
       "    }\n",
       "\n",
       "    .dataframe thead th {\n",
       "        text-align: right;\n",
       "    }\n",
       "</style>\n",
       "<table border=\"1\" class=\"dataframe\">\n",
       "  <thead>\n",
       "    <tr style=\"text-align: right;\">\n",
       "      <th></th>\n",
       "      <th>time</th>\n",
       "      <th>time_count</th>\n",
       "    </tr>\n",
       "  </thead>\n",
       "  <tbody>\n",
       "    <tr>\n",
       "      <th>0</th>\n",
       "      <td>60</td>\n",
       "      <td>408</td>\n",
       "    </tr>\n",
       "    <tr>\n",
       "      <th>1</th>\n",
       "      <td>360</td>\n",
       "      <td>368</td>\n",
       "    </tr>\n",
       "    <tr>\n",
       "      <th>2</th>\n",
       "      <td>300</td>\n",
       "      <td>361</td>\n",
       "    </tr>\n",
       "    <tr>\n",
       "      <th>3</th>\n",
       "      <td>420</td>\n",
       "      <td>347</td>\n",
       "    </tr>\n",
       "    <tr>\n",
       "      <th>4</th>\n",
       "      <td>480</td>\n",
       "      <td>320</td>\n",
       "    </tr>\n",
       "    <tr>\n",
       "      <th>5</th>\n",
       "      <td>1080</td>\n",
       "      <td>315</td>\n",
       "    </tr>\n",
       "    <tr>\n",
       "      <th>6</th>\n",
       "      <td>240</td>\n",
       "      <td>303</td>\n",
       "    </tr>\n",
       "    <tr>\n",
       "      <th>7</th>\n",
       "      <td>1020</td>\n",
       "      <td>300</td>\n",
       "    </tr>\n",
       "    <tr>\n",
       "      <th>8</th>\n",
       "      <td>600</td>\n",
       "      <td>289</td>\n",
       "    </tr>\n",
       "    <tr>\n",
       "      <th>9</th>\n",
       "      <td>1200</td>\n",
       "      <td>258</td>\n",
       "    </tr>\n",
       "  </tbody>\n",
       "</table>\n",
       "</div>"
      ],
      "text/plain": [
       "   time  time_count\n",
       "0    60         408\n",
       "1   360         368\n",
       "2   300         361\n",
       "3   420         347\n",
       "4   480         320\n",
       "5  1080         315\n",
       "6   240         303\n",
       "7  1020         300\n",
       "8   600         289\n",
       "9  1200         258"
      ]
     },
     "execution_count": 22,
     "metadata": {},
     "output_type": "execute_result"
    }
   ],
   "source": [
    "narration_time = df['time'].value_counts().reset_index().rename(columns={'count':'time_count'})\n",
    "\n",
    "narration_time.head(10)"
   ]
  },
  {
   "cell_type": "code",
   "execution_count": 23,
   "id": "1ac0a449",
   "metadata": {
    "execution": {
     "iopub.execute_input": "2025-03-25T04:08:22.877955Z",
     "iopub.status.busy": "2025-03-25T04:08:22.877614Z",
     "iopub.status.idle": "2025-03-25T04:08:23.259044Z",
     "shell.execute_reply": "2025-03-25T04:08:23.258074Z"
    },
    "papermill": {
     "duration": 0.399119,
     "end_time": "2025-03-25T04:08:23.260781",
     "exception": false,
     "start_time": "2025-03-25T04:08:22.861662",
     "status": "completed"
    },
    "tags": []
   },
   "outputs": [
    {
     "data": {
      "text/plain": [
       "<Axes: title={'center': 'Distribution of Narration Time'}, ylabel='Frequency'>"
      ]
     },
     "execution_count": 23,
     "metadata": {},
     "output_type": "execute_result"
    },
    {
     "data": {
      "image/png": "[encoded data removed]",
      "text/plain": [
       "<Figure size 1500x600 with 1 Axes>"
      ]
     },
     "metadata": {},
     "output_type": "display_data"
    }
   ],
   "source": [
    " narration_time['time_count'].plot(kind='hist',\n",
    "         title='Distribution of Narration Time',\n",
    "         figsize=(15,6),\n",
    "         bins=40                          \n",
    "         )\n"
   ]
  },
  {
   "cell_type": "markdown",
   "id": "b8069381",
   "metadata": {
    "papermill": {
     "duration": 0.014744,
     "end_time": "2025-03-25T04:08:23.290606",
     "exception": false,
     "start_time": "2025-03-25T04:08:23.275862",
     "status": "completed"
    },
    "tags": []
   },
   "source": [
    "# Author:"
   ]
  },
  {
   "cell_type": "markdown",
   "id": "dc004e3c",
   "metadata": {
    "papermill": {
     "duration": 0.015122,
     "end_time": "2025-03-25T04:08:23.320969",
     "exception": false,
     "start_time": "2025-03-25T04:08:23.305847",
     "status": "completed"
    },
    "tags": []
   },
   "source": [
    "How many authors have narrated their own book?"
   ]
  },
  {
   "cell_type": "code",
   "execution_count": 24,
   "id": "aa118b2e",
   "metadata": {
    "execution": {
     "iopub.execute_input": "2025-03-25T04:08:23.354344Z",
     "iopub.status.busy": "2025-03-25T04:08:23.353920Z",
     "iopub.status.idle": "2025-03-25T04:08:23.371998Z",
     "shell.execute_reply": "2025-03-25T04:08:23.370744Z"
    },
    "papermill": {
     "duration": 0.036861,
     "end_time": "2025-03-25T04:08:23.373670",
     "exception": false,
     "start_time": "2025-03-25T04:08:23.336809",
     "status": "completed"
    },
    "tags": []
   },
   "outputs": [
    {
     "name": "stdout",
     "output_type": "stream",
     "text": [
      "11293 authors have narrated their own book\n"
     ]
    }
   ],
   "source": [
    "self_narration = len(df.loc[df['author'] == df['narrator']])\n",
    "\n",
    "print(f'{self_narration} authors have narrated their own book')"
   ]
  },
  {
   "cell_type": "markdown",
   "id": "4a868d55",
   "metadata": {
    "papermill": {
     "duration": 0.015132,
     "end_time": "2025-03-25T04:08:23.405703",
     "exception": false,
     "start_time": "2025-03-25T04:08:23.390571",
     "status": "completed"
    },
    "tags": []
   },
   "source": [
    "Which author has written the longest narration?"
   ]
  },
  {
   "cell_type": "code",
   "execution_count": 25,
   "id": "c17d82ca",
   "metadata": {
    "execution": {
     "iopub.execute_input": "2025-03-25T04:08:23.439148Z",
     "iopub.status.busy": "2025-03-25T04:08:23.438755Z",
     "iopub.status.idle": "2025-03-25T04:08:23.465125Z",
     "shell.execute_reply": "2025-03-25T04:08:23.463850Z"
    },
    "papermill": {
     "duration": 0.045514,
     "end_time": "2025-03-25T04:08:23.467006",
     "exception": false,
     "start_time": "2025-03-25T04:08:23.421492",
     "status": "completed"
    },
    "tags": []
   },
   "outputs": [
    {
     "data": {
      "text/html": [
       "<div>\n",
       "<style scoped>\n",
       "    .dataframe tbody tr th:only-of-type {\n",
       "        vertical-align: middle;\n",
       "    }\n",
       "\n",
       "    .dataframe tbody tr th {\n",
       "        vertical-align: top;\n",
       "    }\n",
       "\n",
       "    .dataframe thead th {\n",
       "        text-align: right;\n",
       "    }\n",
       "</style>\n",
       "<table border=\"1\" class=\"dataframe\">\n",
       "  <thead>\n",
       "    <tr style=\"text-align: right;\">\n",
       "      <th></th>\n",
       "      <th>author</th>\n",
       "      <th>time</th>\n",
       "    </tr>\n",
       "  </thead>\n",
       "  <tbody>\n",
       "    <tr>\n",
       "      <th>51330</th>\n",
       "      <td>T.W.Brown</td>\n",
       "      <td>8595</td>\n",
       "    </tr>\n",
       "    <tr>\n",
       "      <th>38010</th>\n",
       "      <td>EdwardGibbon</td>\n",
       "      <td>7591</td>\n",
       "    </tr>\n",
       "    <tr>\n",
       "      <th>5473</th>\n",
       "      <td>鈴木三重吉</td>\n",
       "      <td>7363</td>\n",
       "    </tr>\n",
       "    <tr>\n",
       "      <th>33756</th>\n",
       "      <td>ScottC.Litin</td>\n",
       "      <td>6711</td>\n",
       "    </tr>\n",
       "    <tr>\n",
       "      <th>48551</th>\n",
       "      <td>JaneAusten,CharlesDickens,LouisaMayAlcott,</td>\n",
       "      <td>6139</td>\n",
       "    </tr>\n",
       "    <tr>\n",
       "      <th>66019</th>\n",
       "      <td>ChristopherGlyn</td>\n",
       "      <td>5913</td>\n",
       "    </tr>\n",
       "    <tr>\n",
       "      <th>58581</th>\n",
       "      <td>NapoleonHill,GeorgeSamuelClason,JamesAllen,</td>\n",
       "      <td>5701</td>\n",
       "    </tr>\n",
       "    <tr>\n",
       "      <th>47246</th>\n",
       "      <td>MattLarkin</td>\n",
       "      <td>5560</td>\n",
       "    </tr>\n",
       "    <tr>\n",
       "      <th>69600</th>\n",
       "      <td>SikhNet</td>\n",
       "      <td>5545</td>\n",
       "    </tr>\n",
       "    <tr>\n",
       "      <th>48278</th>\n",
       "      <td>RobertLouisStevenson,JackLondon,CharlesDickens,</td>\n",
       "      <td>5264</td>\n",
       "    </tr>\n",
       "  </tbody>\n",
       "</table>\n",
       "</div>"
      ],
      "text/plain": [
       "                                                author  time\n",
       "51330                                        T.W.Brown  8595\n",
       "38010                                     EdwardGibbon  7591\n",
       "5473                                             鈴木三重吉  7363\n",
       "33756                                     ScottC.Litin  6711\n",
       "48551       JaneAusten,CharlesDickens,LouisaMayAlcott,  6139\n",
       "66019                                  ChristopherGlyn  5913\n",
       "58581      NapoleonHill,GeorgeSamuelClason,JamesAllen,  5701\n",
       "47246                                       MattLarkin  5560\n",
       "69600                                          SikhNet  5545\n",
       "48278  RobertLouisStevenson,JackLondon,CharlesDickens,  5264"
      ]
     },
     "execution_count": 25,
     "metadata": {},
     "output_type": "execute_result"
    }
   ],
   "source": [
    "longest_narration = df[['author','time']].sort_values(by='time',ascending=False)\n",
    "\n",
    "longest_narration.head(10)"
   ]
  },
  {
   "cell_type": "code",
   "execution_count": null,
   "id": "657c36bd",
   "metadata": {
    "papermill": {
     "duration": 0.015462,
     "end_time": "2025-03-25T04:08:23.498218",
     "exception": false,
     "start_time": "2025-03-25T04:08:23.482756",
     "status": "completed"
    },
    "tags": []
   },
   "outputs": [],
   "source": []
  }
 ],
 "metadata": {
  "kaggle": {
   "accelerator": "none",
   "dataSources": [
    {
     "datasetId": 2074744,
     "sourceId": 3444204,
     "sourceType": "datasetVersion"
    }
   ],
   "dockerImageVersionId": 30822,
   "isGpuEnabled": false,
   "isInternetEnabled": true,
   "language": "python",
   "sourceType": "notebook"
  },
  "kernelspec": {
   "display_name": "Python 3",
   "language": "python",
   "name": "python3"
  },
  "language_info": {
   "codemirror_mode": {
    "name": "ipython",
    "version": 3
   },
   "file_extension": ".py",
   "mimetype": "text/x-python",
   "name": "python",
   "nbconvert_exporter": "python",
   "pygments_lexer": "ipython3",
   "version": "3.10.12"
  },
  "papermill": {
   "default_parameters": {},
   "duration": 14.927663,
   "end_time": "2025-03-25T04:08:24.336918",
   "environment_variables": {},
   "exception": null,
   "input_path": "__notebook__.ipynb",
   "output_path": "__notebook__.ipynb",
   "parameters": {},
   "start_time": "2025-03-25T04:08:09.409255",
   "version": "2.6.0"
  }
 },
 "nbformat": 4,
 "nbformat_minor": 5
}
